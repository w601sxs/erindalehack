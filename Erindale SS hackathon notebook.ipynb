{
 "cells": [
  {
   "cell_type": "code",
   "execution_count": 1,
   "metadata": {},
   "outputs": [],
   "source": [
    "import json"
   ]
  },
  {
   "cell_type": "code",
   "execution_count": 2,
   "metadata": {},
   "outputs": [],
   "source": [
    "with open(\"erindaledata.json\") as json_file:\n",
    "    data = json.load(json_file)"
   ]
  },
  {
   "cell_type": "code",
   "execution_count": 3,
   "metadata": {},
   "outputs": [
    {
     "data": {
      "text/plain": [
       "list"
      ]
     },
     "execution_count": 3,
     "metadata": {},
     "output_type": "execute_result"
    }
   ],
   "source": [
    "type(data['data'])"
   ]
  },
  {
   "cell_type": "code",
   "execution_count": 4,
   "metadata": {},
   "outputs": [
    {
     "data": {
      "text/plain": [
       "189"
      ]
     },
     "execution_count": 4,
     "metadata": {},
     "output_type": "execute_result"
    }
   ],
   "source": [
    "len(data['data'])"
   ]
  },
  {
   "cell_type": "code",
   "execution_count": 5,
   "metadata": {},
   "outputs": [
    {
     "data": {
      "text/plain": [
       "{'temperature': 15,\n",
       " 'humidity': 45,\n",
       " 'noise_level': 585,\n",
       " 'wifiAccessPoints': [{'macAddress': '88:75:56:AF:20:10',\n",
       "   'ssid': 'PDSB-ADMIN',\n",
       "   'signalStrength': -58},\n",
       "  {'macAddress': '88:75:56:AF:20:14',\n",
       "   'ssid': 'PDSB-MEDIA',\n",
       "   'signalStrength': -58},\n",
       "  {'macAddress': '88:75:56:AF:20:11',\n",
       "   'ssid': 'PDSB-WiFi',\n",
       "   'signalStrength': -58},\n",
       "  {'macAddress': '88:75:56:AF:20:15',\n",
       "   'ssid': 'PDSB-GUEST',\n",
       "   'signalStrength': -58},\n",
       "  {'macAddress': '88:75:56:57:0C:94',\n",
       "   'ssid': 'PDSB-MEDIA',\n",
       "   'signalStrength': -89},\n",
       "  {'macAddress': '88:75:56:57:0C:95',\n",
       "   'ssid': 'PDSB-GUEST',\n",
       "   'signalStrength': -87},\n",
       "  {'macAddress': '88:75:56:87:6C:A4',\n",
       "   'ssid': 'PDSB-MEDIA',\n",
       "   'signalStrength': -83},\n",
       "  {'macAddress': '20:3A:07:48:1A:00',\n",
       "   'ssid': 'PDSB-ADMIN',\n",
       "   'signalStrength': -55},\n",
       "  {'macAddress': '20:3A:07:48:1A:04',\n",
       "   'ssid': 'PDSB-MEDIA',\n",
       "   'signalStrength': -54},\n",
       "  {'macAddress': '88:75:56:87:6C:A0',\n",
       "   'ssid': 'PDSB-ADMIN',\n",
       "   'signalStrength': -82},\n",
       "  {'macAddress': '20:3A:07:48:1A:05',\n",
       "   'ssid': 'PDSB-GUEST',\n",
       "   'signalStrength': -56},\n",
       "  {'macAddress': '88:75:56:87:6C:A5',\n",
       "   'ssid': 'PDSB-GUEST',\n",
       "   'signalStrength': -83},\n",
       "  {'macAddress': '20:3A:07:48:1A:01',\n",
       "   'ssid': 'PDSB-WiFi',\n",
       "   'signalStrength': -56},\n",
       "  {'macAddress': '20:3A:07:6F:40:B5',\n",
       "   'ssid': 'PDSB-GUEST',\n",
       "   'signalStrength': -83},\n",
       "  {'macAddress': '20:3A:07:48:18:21',\n",
       "   'ssid': 'PDSB-WiFi',\n",
       "   'signalStrength': -80},\n",
       "  {'macAddress': '20:3A:07:6F:40:B1',\n",
       "   'ssid': 'PDSB-WiFi',\n",
       "   'signalStrength': -85},\n",
       "  {'macAddress': '20:3A:07:48:18:25',\n",
       "   'ssid': 'PDSB-GUEST',\n",
       "   'signalStrength': -81},\n",
       "  {'macAddress': '20:3A:07:48:18:24',\n",
       "   'ssid': 'PDSB-MEDIA',\n",
       "   'signalStrength': -80},\n",
       "  {'macAddress': '20:3A:07:6F:40:B0',\n",
       "   'ssid': 'PDSB-ADMIN',\n",
       "   'signalStrength': -84},\n",
       "  {'macAddress': '20:3A:07:6F:40:B4',\n",
       "   'ssid': 'PDSB-MEDIA',\n",
       "   'signalStrength': -84}],\n",
       " 'lat': 43.538797,\n",
       " 'lng': -79.6664817,\n",
       " 'accuracy': 35,\n",
       " 'time': '1/20/2020, 7:51:10 AM'}"
      ]
     },
     "execution_count": 5,
     "metadata": {},
     "output_type": "execute_result"
    }
   ],
   "source": [
    "data['data'][0]"
   ]
  },
  {
   "cell_type": "code",
   "execution_count": 6,
   "metadata": {},
   "outputs": [],
   "source": [
    "reduced = []"
   ]
  },
  {
   "cell_type": "code",
   "execution_count": 7,
   "metadata": {},
   "outputs": [],
   "source": [
    "for d in data['data']:\n",
    "    temperature=d['temperature']\n",
    "    humidity = d['humidity']\n",
    "    noise_level=d['noise_level']\n",
    "    lat=d['lat']\n",
    "    lon=d['lng']\n",
    "    accuracy = d['accuracy']\n",
    "    time = d['time']\n",
    "    strength = 0\n",
    "    count=0.\n",
    "    for wap in d['wifiAccessPoints']:\n",
    "        strength += wap['signalStrength']\n",
    "        count+=1.\n",
    "    \n",
    "    average_strength = strength/count\n",
    "    \n",
    "    reduced.append({\n",
    "        'temperature':temperature,\n",
    "        'humidity':humidity,\n",
    "        'noise_level':noise_level,\n",
    "        'accuracy':accuracy,\n",
    "        'wifi':strength,\n",
    "        'time':time,\n",
    "        'latitude':lat,\n",
    "        'longitude':lon\n",
    "    })\n",
    "    "
   ]
  },
  {
   "cell_type": "code",
   "execution_count": 8,
   "metadata": {},
   "outputs": [],
   "source": [
    "import pandas as pd"
   ]
  },
  {
   "cell_type": "code",
   "execution_count": 9,
   "metadata": {},
   "outputs": [],
   "source": [
    "df = pd.DataFrame(reduced)"
   ]
  },
  {
   "cell_type": "code",
   "execution_count": 10,
   "metadata": {},
   "outputs": [
    {
     "data": {
      "text/html": [
       "<div>\n",
       "<style scoped>\n",
       "    .dataframe tbody tr th:only-of-type {\n",
       "        vertical-align: middle;\n",
       "    }\n",
       "\n",
       "    .dataframe tbody tr th {\n",
       "        vertical-align: top;\n",
       "    }\n",
       "\n",
       "    .dataframe thead th {\n",
       "        text-align: right;\n",
       "    }\n",
       "</style>\n",
       "<table border=\"1\" class=\"dataframe\">\n",
       "  <thead>\n",
       "    <tr style=\"text-align: right;\">\n",
       "      <th></th>\n",
       "      <th>temperature</th>\n",
       "      <th>humidity</th>\n",
       "      <th>noise_level</th>\n",
       "      <th>accuracy</th>\n",
       "      <th>wifi</th>\n",
       "      <th>time</th>\n",
       "      <th>latitude</th>\n",
       "      <th>longitude</th>\n",
       "    </tr>\n",
       "  </thead>\n",
       "  <tbody>\n",
       "    <tr>\n",
       "      <td>0</td>\n",
       "      <td>15</td>\n",
       "      <td>45</td>\n",
       "      <td>585</td>\n",
       "      <td>35</td>\n",
       "      <td>-1454</td>\n",
       "      <td>1/20/2020, 7:51:10 AM</td>\n",
       "      <td>43.538797</td>\n",
       "      <td>-79.666482</td>\n",
       "    </tr>\n",
       "    <tr>\n",
       "      <td>1</td>\n",
       "      <td>19</td>\n",
       "      <td>18</td>\n",
       "      <td>582</td>\n",
       "      <td>33</td>\n",
       "      <td>-1351</td>\n",
       "      <td>1/20/2020, 7:51:24 AM</td>\n",
       "      <td>43.538823</td>\n",
       "      <td>-79.666474</td>\n",
       "    </tr>\n",
       "    <tr>\n",
       "      <td>2</td>\n",
       "      <td>20</td>\n",
       "      <td>17</td>\n",
       "      <td>583</td>\n",
       "      <td>32</td>\n",
       "      <td>-1362</td>\n",
       "      <td>1/20/2020, 7:51:33 AM</td>\n",
       "      <td>43.538818</td>\n",
       "      <td>-79.666444</td>\n",
       "    </tr>\n",
       "    <tr>\n",
       "      <td>3</td>\n",
       "      <td>20</td>\n",
       "      <td>17</td>\n",
       "      <td>663</td>\n",
       "      <td>22</td>\n",
       "      <td>-1218</td>\n",
       "      <td>1/20/2020, 7:52:50 AM</td>\n",
       "      <td>43.538894</td>\n",
       "      <td>-79.666039</td>\n",
       "    </tr>\n",
       "    <tr>\n",
       "      <td>4</td>\n",
       "      <td>20</td>\n",
       "      <td>18</td>\n",
       "      <td>668</td>\n",
       "      <td>20</td>\n",
       "      <td>-565</td>\n",
       "      <td>1/20/2020, 7:52:59 AM</td>\n",
       "      <td>43.538940</td>\n",
       "      <td>-79.666016</td>\n",
       "    </tr>\n",
       "    <tr>\n",
       "      <td>...</td>\n",
       "      <td>...</td>\n",
       "      <td>...</td>\n",
       "      <td>...</td>\n",
       "      <td>...</td>\n",
       "      <td>...</td>\n",
       "      <td>...</td>\n",
       "      <td>...</td>\n",
       "      <td>...</td>\n",
       "    </tr>\n",
       "    <tr>\n",
       "      <td>184</td>\n",
       "      <td>21</td>\n",
       "      <td>17</td>\n",
       "      <td>677</td>\n",
       "      <td>20</td>\n",
       "      <td>-1091</td>\n",
       "      <td>1/20/2020, 2:49:43 PM</td>\n",
       "      <td>43.538791</td>\n",
       "      <td>-79.666584</td>\n",
       "    </tr>\n",
       "    <tr>\n",
       "      <td>185</td>\n",
       "      <td>20</td>\n",
       "      <td>18</td>\n",
       "      <td>678</td>\n",
       "      <td>20</td>\n",
       "      <td>-781</td>\n",
       "      <td>1/20/2020, 2:49:52 PM</td>\n",
       "      <td>43.538801</td>\n",
       "      <td>-79.666574</td>\n",
       "    </tr>\n",
       "    <tr>\n",
       "      <td>186</td>\n",
       "      <td>20</td>\n",
       "      <td>17</td>\n",
       "      <td>676</td>\n",
       "      <td>20</td>\n",
       "      <td>-843</td>\n",
       "      <td>1/20/2020, 2:50:00 PM</td>\n",
       "      <td>43.538789</td>\n",
       "      <td>-79.666579</td>\n",
       "    </tr>\n",
       "    <tr>\n",
       "      <td>187</td>\n",
       "      <td>20</td>\n",
       "      <td>18</td>\n",
       "      <td>676</td>\n",
       "      <td>20</td>\n",
       "      <td>-1329</td>\n",
       "      <td>1/20/2020, 2:50:09 PM</td>\n",
       "      <td>43.538802</td>\n",
       "      <td>-79.666590</td>\n",
       "    </tr>\n",
       "    <tr>\n",
       "      <td>188</td>\n",
       "      <td>20</td>\n",
       "      <td>17</td>\n",
       "      <td>674</td>\n",
       "      <td>20</td>\n",
       "      <td>-1232</td>\n",
       "      <td>1/20/2020, 2:50:29 PM</td>\n",
       "      <td>43.538802</td>\n",
       "      <td>-79.666590</td>\n",
       "    </tr>\n",
       "  </tbody>\n",
       "</table>\n",
       "<p>189 rows × 8 columns</p>\n",
       "</div>"
      ],
      "text/plain": [
       "     temperature  humidity  noise_level  accuracy  wifi  \\\n",
       "0             15        45          585        35 -1454   \n",
       "1             19        18          582        33 -1351   \n",
       "2             20        17          583        32 -1362   \n",
       "3             20        17          663        22 -1218   \n",
       "4             20        18          668        20  -565   \n",
       "..           ...       ...          ...       ...   ...   \n",
       "184           21        17          677        20 -1091   \n",
       "185           20        18          678        20  -781   \n",
       "186           20        17          676        20  -843   \n",
       "187           20        18          676        20 -1329   \n",
       "188           20        17          674        20 -1232   \n",
       "\n",
       "                      time   latitude  longitude  \n",
       "0    1/20/2020, 7:51:10 AM  43.538797 -79.666482  \n",
       "1    1/20/2020, 7:51:24 AM  43.538823 -79.666474  \n",
       "2    1/20/2020, 7:51:33 AM  43.538818 -79.666444  \n",
       "3    1/20/2020, 7:52:50 AM  43.538894 -79.666039  \n",
       "4    1/20/2020, 7:52:59 AM  43.538940 -79.666016  \n",
       "..                     ...        ...        ...  \n",
       "184  1/20/2020, 2:49:43 PM  43.538791 -79.666584  \n",
       "185  1/20/2020, 2:49:52 PM  43.538801 -79.666574  \n",
       "186  1/20/2020, 2:50:00 PM  43.538789 -79.666579  \n",
       "187  1/20/2020, 2:50:09 PM  43.538802 -79.666590  \n",
       "188  1/20/2020, 2:50:29 PM  43.538802 -79.666590  \n",
       "\n",
       "[189 rows x 8 columns]"
      ]
     },
     "execution_count": 10,
     "metadata": {},
     "output_type": "execute_result"
    }
   ],
   "source": [
    "df"
   ]
  },
  {
   "cell_type": "code",
   "execution_count": 11,
   "metadata": {},
   "outputs": [
    {
     "name": "stdout",
     "output_type": "stream",
     "text": [
      "Requirement already satisfied: folium in /anaconda3/lib/python3.6/site-packages (0.10.1)\n",
      "Requirement already satisfied: geopandas in /anaconda3/lib/python3.6/site-packages (0.6.3)\n",
      "Requirement already satisfied: branca>=0.3.0 in /anaconda3/lib/python3.6/site-packages (from folium) (0.3.1)\n",
      "Requirement already satisfied: numpy in /anaconda3/lib/python3.6/site-packages (from folium) (1.14.6)\n",
      "Requirement already satisfied: requests in /anaconda3/lib/python3.6/site-packages (from folium) (2.22.0)\n",
      "Requirement already satisfied: jinja2>=2.9 in /anaconda3/lib/python3.6/site-packages (from folium) (2.10.1)\n",
      "Requirement already satisfied: pyproj in /anaconda3/lib/python3.6/site-packages (from geopandas) (2.4.2.post1)\n",
      "Requirement already satisfied: shapely in /anaconda3/lib/python3.6/site-packages (from geopandas) (1.7.0)\n",
      "Requirement already satisfied: fiona in /anaconda3/lib/python3.6/site-packages (from geopandas) (1.8.13)\n",
      "Requirement already satisfied: pandas>=0.23.0 in /anaconda3/lib/python3.6/site-packages (from geopandas) (0.25.1)\n",
      "Requirement already satisfied: six in /anaconda3/lib/python3.6/site-packages (from branca>=0.3.0->folium) (1.10.0)\n",
      "Requirement already satisfied: urllib3!=1.25.0,!=1.25.1,<1.26,>=1.21.1 in /anaconda3/lib/python3.6/site-packages (from requests->folium) (1.22)\n",
      "Requirement already satisfied: certifi>=2017.4.17 in /anaconda3/lib/python3.6/site-packages (from requests->folium) (2018.4.16)\n",
      "Requirement already satisfied: chardet<3.1.0,>=3.0.2 in /anaconda3/lib/python3.6/site-packages (from requests->folium) (3.0.4)\n",
      "Requirement already satisfied: idna<2.9,>=2.5 in /anaconda3/lib/python3.6/site-packages (from requests->folium) (2.6)\n",
      "Requirement already satisfied: MarkupSafe>=0.23 in /anaconda3/lib/python3.6/site-packages (from jinja2>=2.9->folium) (0.23)\n",
      "Requirement already satisfied: cligj>=0.5 in /anaconda3/lib/python3.6/site-packages (from fiona->geopandas) (0.5.0)\n",
      "Requirement already satisfied: attrs>=17 in /anaconda3/lib/python3.6/site-packages (from fiona->geopandas) (19.1.0)\n",
      "Requirement already satisfied: munch in /anaconda3/lib/python3.6/site-packages (from fiona->geopandas) (2.5.0)\n",
      "Requirement already satisfied: click-plugins>=1.0 in /anaconda3/lib/python3.6/site-packages (from fiona->geopandas) (1.1.1)\n",
      "Requirement already satisfied: click<8,>=4.0 in /anaconda3/lib/python3.6/site-packages (from fiona->geopandas) (6.7)\n",
      "Requirement already satisfied: python-dateutil>=2.6.1 in /anaconda3/lib/python3.6/site-packages (from pandas>=0.23.0->geopandas) (2.7.3)\n",
      "Requirement already satisfied: pytz>=2017.2 in /anaconda3/lib/python3.6/site-packages (from pandas>=0.23.0->geopandas) (2018.4)\n",
      "\u001b[33mWARNING: You are using pip version 19.3.1; however, version 20.0.2 is available.\n",
      "You should consider upgrading via the 'pip install --upgrade pip' command.\u001b[0m\n"
     ]
    }
   ],
   "source": [
    "!pip install folium geopandas"
   ]
  },
  {
   "cell_type": "code",
   "execution_count": 12,
   "metadata": {},
   "outputs": [],
   "source": [
    "import folium\n",
    "from folium.plugins import HeatMap"
   ]
  },
  {
   "cell_type": "markdown",
   "metadata": {},
   "source": [
    "## Temperature"
   ]
  },
  {
   "cell_type": "code",
   "execution_count": 13,
   "metadata": {},
   "outputs": [
    {
     "data": {
      "text/html": [
       "<div style=\"width:100%;\"><div style=\"position:relative;width:100%;height:0;padding-bottom:60%;\"><iframe src=\"data:text/html;charset=utf-8;base64,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\" style=\"position:absolute;width:100%;height:100%;left:0;top:0;border:none !important;\" allowfullscreen webkitallowfullscreen mozallowfullscreen></iframe></div></div>"
      ],
      "text/plain": [
       "<folium.folium.Map at 0x113edc908>"
      ]
     },
     "execution_count": 13,
     "metadata": {},
     "output_type": "execute_result"
    }
   ],
   "source": [
    "hmap1 = folium.Map(location=[43.538797, -79.666482], zoom_start=28., )\n",
    "df.temperature = df.temperature.astype(float)\n",
    "temperature_max = float(df['temperature'].max())\n",
    "\n",
    "hm_temp = HeatMap( list(zip(df.latitude.values, df.longitude.values, df.temperature.values)),\n",
    "                   min_opacity=0.4,\n",
    "                   max_val=temperature_max,\n",
    "                   radius=25., blur=15., \n",
    "                   max_zoom=35., \n",
    "                 )\n",
    "hmap1.add_child(hm_temp)"
   ]
  },
  {
   "cell_type": "markdown",
   "metadata": {},
   "source": [
    "## Humidity"
   ]
  },
  {
   "cell_type": "code",
   "execution_count": 14,
   "metadata": {},
   "outputs": [
    {
     "name": "stdout",
     "output_type": "stream",
     "text": [
      "48.0\n"
     ]
    },
    {
     "data": {
      "text/html": [
       "<div style=\"width:100%;\"><div style=\"position:relative;width:100%;height:0;padding-bottom:60%;\"><iframe src=\"data:text/html;charset=utf-8;base64,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\" style=\"position:absolute;width:100%;height:100%;left:0;top:0;border:none !important;\" allowfullscreen webkitallowfullscreen mozallowfullscreen></iframe></div></div>"
      ],
      "text/plain": [
       "<folium.folium.Map at 0x113ede908>"
      ]
     },
     "execution_count": 14,
     "metadata": {},
     "output_type": "execute_result"
    }
   ],
   "source": [
    "hmap2 = folium.Map(location=[43.538797, -79.666482], zoom_start=28., )\n",
    "df.humidity = df.humidity.astype(float)\n",
    "humidity_max = float(df['humidity'].max())\n",
    "print(humidity_max)\n",
    "hm_humid = HeatMap( list(zip(df.latitude.values, df.longitude.values, df.humidity.values)),\n",
    "                   min_opacity=0.4,\n",
    "                   max_val=humidity_max,\n",
    "                   radius=30., blur=35., \n",
    "                   max_zoom=35., \n",
    "                 )\n",
    "\n",
    "hmap2.add_child(hm_humid)"
   ]
  },
  {
   "cell_type": "markdown",
   "metadata": {},
   "source": [
    "## Noise Level"
   ]
  },
  {
   "cell_type": "code",
   "execution_count": 15,
   "metadata": {},
   "outputs": [
    {
     "name": "stdout",
     "output_type": "stream",
     "text": [
      "687.0\n"
     ]
    },
    {
     "data": {
      "text/html": [
       "<div style=\"width:100%;\"><div style=\"position:relative;width:100%;height:0;padding-bottom:60%;\"><iframe src=\"data:text/html;charset=utf-8;base64,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\" style=\"position:absolute;width:100%;height:100%;left:0;top:0;border:none !important;\" allowfullscreen webkitallowfullscreen mozallowfullscreen></iframe></div></div>"
      ],
      "text/plain": [
       "<folium.folium.Map at 0x113f211d0>"
      ]
     },
     "execution_count": 15,
     "metadata": {},
     "output_type": "execute_result"
    }
   ],
   "source": [
    "hmap3 = folium.Map(location=[43.538797, -79.666482], zoom_start=28., )\n",
    "df.noise_level = df.noise_level.astype(float)\n",
    "noise_level_max = float(df['noise_level'].max())\n",
    "print(noise_level_max)\n",
    "\n",
    "hm_noise = HeatMap( list(zip(df.latitude.values, df.longitude.values, df.noise_level.values)),\n",
    "                   min_opacity=0.4,\n",
    "                   max_val=noise_level_max,\n",
    "                   radius=30., blur=35., \n",
    "                   max_zoom=35., \n",
    "                 )\n",
    "\n",
    "hmap3.add_child(hm_noise)"
   ]
  },
  {
   "cell_type": "markdown",
   "metadata": {},
   "source": [
    "## Wifi"
   ]
  },
  {
   "cell_type": "code",
   "execution_count": 16,
   "metadata": {},
   "outputs": [
    {
     "name": "stdout",
     "output_type": "stream",
     "text": [
      "-199.0\n"
     ]
    },
    {
     "data": {
      "text/html": [
       "<div style=\"width:100%;\"><div style=\"position:relative;width:100%;height:0;padding-bottom:60%;\"><iframe src=\"data:text/html;charset=utf-8;base64,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\" style=\"position:absolute;width:100%;height:100%;left:0;top:0;border:none !important;\" allowfullscreen webkitallowfullscreen mozallowfullscreen></iframe></div></div>"
      ],
      "text/plain": [
       "<folium.folium.Map at 0x113f21dd8>"
      ]
     },
     "execution_count": 16,
     "metadata": {},
     "output_type": "execute_result"
    }
   ],
   "source": [
    "hmap4 = folium.Map(location=[43.538797, -79.666482], zoom_start=28., )\n",
    "df.wifi = df.wifi.astype(float)\n",
    "wifi_max = float(df['wifi'].max())\n",
    "print(wifi_max)\n",
    "\n",
    "hm_wifi = HeatMap( list(zip(df.latitude.values, df.longitude.values, df.wifi.values)),\n",
    "                   min_opacity=0.2,\n",
    "                   max_val=wifi_max,\n",
    "                   radius=30., blur=35., \n",
    "                   max_zoom=35., \n",
    "                 )\n",
    "\n",
    "hmap4.add_child(hm_wifi)"
   ]
  },
  {
   "cell_type": "markdown",
   "metadata": {},
   "source": [
    "## Best Wi-fi and least noise (A.K.A best place to work)"
   ]
  },
  {
   "cell_type": "code",
   "execution_count": 17,
   "metadata": {},
   "outputs": [],
   "source": [
    "normalized_wifi = (-df['wifi'].min() + df['wifi'])\n",
    "normalized_wifi = normalized_wifi/normalized_wifi.max()"
   ]
  },
  {
   "cell_type": "code",
   "execution_count": 18,
   "metadata": {},
   "outputs": [],
   "source": [
    "normalized_noise = (-df['noise_level'].min() + df['noise_level'])\n",
    "normalized_noise = normalized_noise/normalized_noise.max()"
   ]
  },
  {
   "cell_type": "markdown",
   "metadata": {},
   "source": [
    "Write down an equation for max wifi strength and minimal noise ..."
   ]
  },
  {
   "cell_type": "code",
   "execution_count": 19,
   "metadata": {},
   "outputs": [],
   "source": [
    "composite_score = 5.* normalized_wifi / normalized_noise"
   ]
  },
  {
   "cell_type": "code",
   "execution_count": 20,
   "metadata": {},
   "outputs": [],
   "source": [
    "comp_max = composite_score.max()"
   ]
  },
  {
   "cell_type": "code",
   "execution_count": 21,
   "metadata": {},
   "outputs": [
    {
     "data": {
      "text/html": [
       "<div style=\"width:100%;\"><div style=\"position:relative;width:100%;height:0;padding-bottom:60%;\"><iframe src=\"data:text/html;charset=utf-8;base64,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\" style=\"position:absolute;width:100%;height:100%;left:0;top:0;border:none !important;\" allowfullscreen webkitallowfullscreen mozallowfullscreen></iframe></div></div>"
      ],
      "text/plain": [
       "<folium.folium.Map at 0x1148c6f60>"
      ]
     },
     "execution_count": 21,
     "metadata": {},
     "output_type": "execute_result"
    }
   ],
   "source": [
    "hmap5 = folium.Map(location=[43.538797, -79.666482], zoom_start=28., )\n",
    "\n",
    "hm_comp = HeatMap( list(zip(df.latitude.values, df.longitude.values, composite_score.values)),\n",
    "                   min_opacity=0.2,\n",
    "                   max_val=wifi_max,\n",
    "                   radius=20., blur=35., \n",
    "                   max_zoom=35., \n",
    "                 )\n",
    "\n",
    "hmap5.add_child(hm_comp)"
   ]
  },
  {
   "cell_type": "markdown",
   "metadata": {},
   "source": [
    "## Head over to the orange/red areas for the best experience in school"
   ]
  },
  {
   "cell_type": "markdown",
   "metadata": {},
   "source": [
    ".... And also take a poll on Temperature/humidity and set these to the optimum values"
   ]
  },
  {
   "cell_type": "markdown",
   "metadata": {},
   "source": [
    ":)"
   ]
  }
 ],
 "metadata": {
  "kernelspec": {
   "display_name": "Python 3",
   "language": "python",
   "name": "python3"
  },
  "language_info": {
   "codemirror_mode": {
    "name": "ipython",
    "version": 3
   },
   "file_extension": ".py",
   "mimetype": "text/x-python",
   "name": "python",
   "nbconvert_exporter": "python",
   "pygments_lexer": "ipython3",
   "version": "3.6.5"
  }
 },
 "nbformat": 4,
 "nbformat_minor": 2
}
